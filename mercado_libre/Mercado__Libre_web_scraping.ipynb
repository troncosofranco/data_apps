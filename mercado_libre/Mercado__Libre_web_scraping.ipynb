{
  "nbformat": 4,
  "nbformat_minor": 0,
  "metadata": {
    "colab": {
      "provenance": []
    },
    "kernelspec": {
      "name": "python3",
      "display_name": "Python 3"
    },
    "language_info": {
      "name": "python"
    }
  },
  "cells": [
    {
      "cell_type": "markdown",
      "source": [
        "This notebook applies web scraping methodologies to get values and features of Argentina car prices from Mercado Libre."
      ],
      "metadata": {
        "id": "ttaR1ZCYC9RK"
      }
    },
    {
      "cell_type": "markdown",
      "source": [
        "#1. Import modules"
      ],
      "metadata": {
        "id": "N7tV8laSDPX6"
      }
    },
    {
      "cell_type": "code",
      "execution_count": null,
      "metadata": {
        "id": "C_BajAnV3SU2",
        "colab": {
          "base_uri": "https://localhost:8080/",
          "height": 1000
        },
        "outputId": "05cd09d0-f942-4077-ce4e-431aaa4f90a1"
      },
      "outputs": [
        {
          "output_type": "stream",
          "name": "stdout",
          "text": [
            "Looking in indexes: https://pypi.org/simple, https://us-python.pkg.dev/colab-wheels/public/simple/\n",
            "Collecting requests_html\n",
            "  Downloading requests_html-0.10.0-py3-none-any.whl (13 kB)\n",
            "Collecting pyppeteer>=0.0.14\n",
            "  Downloading pyppeteer-1.0.2-py3-none-any.whl (83 kB)\n",
            "\u001b[2K     \u001b[90m━━━━━━━━━━━━━━━━━━━━━━━━━━━━━━━━━━━━━━━━\u001b[0m \u001b[32m83.4/83.4 KB\u001b[0m \u001b[31m8.3 MB/s\u001b[0m eta \u001b[36m0:00:00\u001b[0m\n",
            "\u001b[?25hCollecting w3lib\n",
            "  Downloading w3lib-2.1.1-py3-none-any.whl (21 kB)\n",
            "Collecting pyquery\n",
            "  Downloading pyquery-2.0.0-py3-none-any.whl (22 kB)\n",
            "Collecting parse\n",
            "  Downloading parse-1.19.0.tar.gz (30 kB)\n",
            "  Preparing metadata (setup.py) ... \u001b[?25l\u001b[?25hdone\n",
            "Requirement already satisfied: bs4 in /usr/local/lib/python3.8/dist-packages (from requests_html) (0.0.1)\n",
            "Requirement already satisfied: requests in /usr/local/lib/python3.8/dist-packages (from requests_html) (2.25.1)\n",
            "Collecting fake-useragent\n",
            "  Downloading fake_useragent-1.1.1-py3-none-any.whl (50 kB)\n",
            "\u001b[2K     \u001b[90m━━━━━━━━━━━━━━━━━━━━━━━━━━━━━━━━━━━━━━━━\u001b[0m \u001b[32m50.4/50.4 KB\u001b[0m \u001b[31m7.3 MB/s\u001b[0m eta \u001b[36m0:00:00\u001b[0m\n",
            "\u001b[?25hCollecting urllib3<2.0.0,>=1.25.8\n",
            "  Downloading urllib3-1.26.14-py2.py3-none-any.whl (140 kB)\n",
            "\u001b[2K     \u001b[90m━━━━━━━━━━━━━━━━━━━━━━━━━━━━━━━━━━━━━━\u001b[0m \u001b[32m140.6/140.6 KB\u001b[0m \u001b[31m16.1 MB/s\u001b[0m eta \u001b[36m0:00:00\u001b[0m\n",
            "\u001b[?25hCollecting websockets<11.0,>=10.0\n",
            "  Downloading websockets-10.4-cp38-cp38-manylinux_2_5_x86_64.manylinux1_x86_64.manylinux_2_17_x86_64.manylinux2014_x86_64.whl (106 kB)\n",
            "\u001b[2K     \u001b[90m━━━━━━━━━━━━━━━━━━━━━━━━━━━━━━━━━━━━━━━\u001b[0m \u001b[32m107.0/107.0 KB\u001b[0m \u001b[31m5.4 MB/s\u001b[0m eta \u001b[36m0:00:00\u001b[0m\n",
            "\u001b[?25hCollecting pyee<9.0.0,>=8.1.0\n",
            "  Downloading pyee-8.2.2-py2.py3-none-any.whl (12 kB)\n",
            "Requirement already satisfied: certifi>=2021 in /usr/local/lib/python3.8/dist-packages (from pyppeteer>=0.0.14->requests_html) (2022.12.7)\n",
            "Requirement already satisfied: appdirs<2.0.0,>=1.4.3 in /usr/local/lib/python3.8/dist-packages (from pyppeteer>=0.0.14->requests_html) (1.4.4)\n",
            "Requirement already satisfied: importlib-metadata>=1.4 in /usr/local/lib/python3.8/dist-packages (from pyppeteer>=0.0.14->requests_html) (6.0.0)\n",
            "Requirement already satisfied: tqdm<5.0.0,>=4.42.1 in /usr/local/lib/python3.8/dist-packages (from pyppeteer>=0.0.14->requests_html) (4.64.1)\n",
            "Requirement already satisfied: beautifulsoup4 in /usr/local/lib/python3.8/dist-packages (from bs4->requests_html) (4.6.3)\n",
            "Requirement already satisfied: importlib-resources>=5.0 in /usr/local/lib/python3.8/dist-packages (from fake-useragent->requests_html) (5.10.2)\n",
            "Requirement already satisfied: lxml>=2.1 in /usr/local/lib/python3.8/dist-packages (from pyquery->requests_html) (4.9.2)\n",
            "Collecting cssselect>=1.2.0\n",
            "  Downloading cssselect-1.2.0-py2.py3-none-any.whl (18 kB)\n",
            "Requirement already satisfied: idna<3,>=2.5 in /usr/local/lib/python3.8/dist-packages (from requests->requests_html) (2.10)\n",
            "Requirement already satisfied: chardet<5,>=3.0.2 in /usr/local/lib/python3.8/dist-packages (from requests->requests_html) (4.0.0)\n",
            "Requirement already satisfied: zipp>=0.5 in /usr/local/lib/python3.8/dist-packages (from importlib-metadata>=1.4->pyppeteer>=0.0.14->requests_html) (3.11.0)\n",
            "Building wheels for collected packages: parse\n",
            "  Building wheel for parse (setup.py) ... \u001b[?25l\u001b[?25hdone\n",
            "  Created wheel for parse: filename=parse-1.19.0-py3-none-any.whl size=24591 sha256=a5dc99008fe1df001eb45e374ec98f571e484cadb28e89dd25a148e70c77d76d\n",
            "  Stored in directory: /root/.cache/pip/wheels/e5/33/1f/68392720485b3ecf125a69e700baaab7624616deedea2fa6e2\n",
            "Successfully built parse\n",
            "Installing collected packages: pyee, parse, websockets, w3lib, urllib3, cssselect, pyquery, pyppeteer, fake-useragent, requests_html\n",
            "  Attempting uninstall: urllib3\n",
            "    Found existing installation: urllib3 1.24.3\n",
            "    Uninstalling urllib3-1.24.3:\n",
            "      Successfully uninstalled urllib3-1.24.3\n",
            "Successfully installed cssselect-1.2.0 fake-useragent-1.1.1 parse-1.19.0 pyee-8.2.2 pyppeteer-1.0.2 pyquery-2.0.0 requests_html-0.10.0 urllib3-1.26.14 w3lib-2.1.1 websockets-10.4\n"
          ]
        },
        {
          "output_type": "display_data",
          "data": {
            "application/vnd.colab-display-data+json": {
              "pip_warning": {
                "packages": [
                  "urllib3"
                ]
              }
            }
          },
          "metadata": {}
        }
      ],
      "source": [
        "import requests \n",
        "from bs4 import BeautifulSoup \n",
        "import pandas as pd\n",
        "import time\n",
        "import requests\n",
        "!pip install requests_html\n",
        "import requests_html\n",
        "from requests_html import HTMLSession"
      ]
    },
    {
      "cell_type": "code",
      "source": [
        "string = input('¿Qué quieres buscar?')\n",
        "r = requests.get('https://listado.mercadolibre.com.ar/{}#D[A:{}]'.format(string.replace(' ', '-'), string))\n",
        "contenido = r.content\n",
        "\n",
        "soup = BeautifulSoup(contenido, 'html.parser')\n",
        "\n",
        "# Última página\n",
        "try:\n",
        "    last_page = soup.find('li', {'class': 'andes-pagination__page-count'}).text\n",
        "    last_page_modified = int(last_page.replace('de ',''))\n",
        "except:\n",
        "    pass\n",
        "\n",
        "# Array para añadir los objetos\n",
        "products_array = []\n",
        "\n",
        "for page in range(0, last_page_modified):\n",
        "    \n",
        "    initial_result = requests.get('https://listado.mercadolibre.com.ar/{}_Desde_{}_NoIndex_True'.format(string.replace(' ', '-'), (page*50)+1))\n",
        "    content_pagination = initial_result.content\n",
        "    \n",
        "    soup_pagination = BeautifulSoup(content_pagination, 'html.parser')\n",
        "    \n",
        "    alldivs = soup_pagination.find_all('div', {'class': 'andes-card'})\n",
        "    \n",
        "    for item in alldivs:\n",
        "        data = {}\n",
        "        data['nombre articulo'] = item.find('h2', {'class': 'ui-search-item__title'}).text\n",
        "        data['precio'] = item.find('span', {'class': 'price-tag-amount'}).text\n",
        "        try:\n",
        "            data['link'] = item.find('a', {'class': 'ui-search-result__content'})['href']\n",
        "        except: \n",
        "            data['link'] = item.find('a', {'class': 'ui-search-link'})['href']\n",
        "\n",
        "        products_array.append(data)\n",
        "\n",
        "print(len(products_array))\n",
        "print(products_array)\n",
        "\n",
        "df = pd.DataFrame(products_array)\n",
        "\n"
      ],
      "metadata": {
        "id": "SATq2Tv7I6re"
      },
      "execution_count": null,
      "outputs": []
    },
    {
      "cell_type": "code",
      "source": [
        "df.head()"
      ],
      "metadata": {
        "id": "-KvYW5AR26EN"
      },
      "execution_count": null,
      "outputs": []
    },
    {
      "cell_type": "code",
      "source": [
        "#cars\n",
        "df[['company','model','year','version','color','fuel','doors','transmisions','motor','bodywork','km']]= '.'\n",
        "\n",
        "#Apartment\n",
        "#df[['sup_total','sup_cub','ambient','bedrooms','bathroom','disposition','orientation']]= '.'"
      ],
      "metadata": {
        "id": "aZgAlFb93HhE"
      },
      "execution_count": null,
      "outputs": []
    },
    {
      "cell_type": "code",
      "source": [
        "df.head(2)"
      ],
      "metadata": {
        "id": "EvIuvPZg3_-X"
      },
      "execution_count": null,
      "outputs": []
    },
    {
      "cell_type": "code",
      "source": [
        "link_list = df['link']\n",
        "session = HTMLSession()\n",
        "url = link_list[0]\n",
        "r=session.get(url)\n",
        "names=r.html.find(\".andes-table__header\")\n",
        "table=r.html.find(\"span.andes-table__column--value\")\n",
        "table\n",
        "for i in range(len(table)):\n",
        "    print(f\"Name : {names[i].text}\\nValue : {table[i].text}\\n-------------------------------------------------\")"
      ],
      "metadata": {
        "id": "nz8OAb0bvIH2"
      },
      "execution_count": null,
      "outputs": []
    },
    {
      "cell_type": "code",
      "source": [
        "list(df)"
      ],
      "metadata": {
        "id": "2zm8PLdsTzZY"
      },
      "execution_count": null,
      "outputs": []
    },
    {
      "cell_type": "code",
      "source": [
        "for i in range(0,len(link_list)):\n",
        "  url = link_list[i]\n",
        "  r=session.get(url)\n",
        "  names=r.html.find(\".andes-table__header\")\n",
        "  table=r.html.find(\"span.andes-table__column--value\")\n",
        "  try:\n",
        "    df.at[i, 'company'] = table[0].text\n",
        "    df.at[i, 'model'] = table[1].text\n",
        "    df.at[i, 'year'] = table[2].text\n",
        "    df.at[i, 'version'] = table[3].text\n",
        "    df.at[i, 'color'] = table[4].text\n",
        "    df.at[i, 'fuel'] = table[5].text\n",
        "    df.at[i, 'doors'] = table[6].text\n",
        "    df.at[i, 'transmisions'] = table[7].text\n",
        "    df.at[i, 'motor'] = table[8].text\n",
        "    df.at[i, 'bodywork'] = table[9].text\n",
        "    df.at[i, 'km'] = table[10].text\n",
        "  except:\n",
        "    continue\n",
        "  print(i)\n",
        "  \n"
      ],
      "metadata": {
        "id": "ikU2eYOD_yXM"
      },
      "execution_count": null,
      "outputs": []
    },
    {
      "cell_type": "code",
      "source": [
        "df.head()"
      ],
      "metadata": {
        "id": "GeTckGBq_Umc"
      },
      "execution_count": null,
      "outputs": []
    },
    {
      "cell_type": "code",
      "source": [
        "# Guardar los resultados obtenidos en csv\n",
        "df.to_csv(\"data_{}.csv\".format(string))"
      ],
      "metadata": {
        "id": "uTxbc6L_7lMK"
      },
      "execution_count": null,
      "outputs": []
    }
  ]
}